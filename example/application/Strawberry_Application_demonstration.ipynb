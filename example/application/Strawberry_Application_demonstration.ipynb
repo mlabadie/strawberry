{
 "cells": [
  {
   "cell_type": "markdown",
   "id": "f352cf36",
   "metadata": {},
   "source": [
    "# Demonstration of Strawberry application"
   ]
  },
  {
   "cell_type": "markdown",
   "id": "4037a51f",
   "metadata": {},
   "source": [
    "## Modules requirements\n"
   ]
  },
  {
   "cell_type": "markdown",
   "id": "759ae6de",
   "metadata": {},
   "source": [
    "### External modules"
   ]
  },
  {
   "cell_type": "code",
   "execution_count": 1,
   "id": "b123b008",
   "metadata": {},
   "outputs": [],
   "source": [
    "import ipyvuetify as v\n",
    "from traitlets import (Any, Bool, Dict, Int, Unicode, List)"
   ]
  },
  {
   "cell_type": "markdown",
   "id": "23511439",
   "metadata": {},
   "source": [
    "### Internal modules (Application pages)"
   ]
  },
  {
   "cell_type": "code",
   "execution_count": 2,
   "id": "8f015a78",
   "metadata": {},
   "outputs": [
    {
     "data": {
      "text/html": [
       "        <script type=\"text/javascript\">\n",
       "        window.PlotlyConfig = {MathJaxConfig: 'local'};\n",
       "        if (window.MathJax) {MathJax.Hub.Config({SVG: {font: \"STIX-Web\"}});}\n",
       "        if (typeof require !== 'undefined') {\n",
       "        require.undef(\"plotly\");\n",
       "        requirejs.config({\n",
       "            paths: {\n",
       "                'plotly': ['https://cdn.plot.ly/plotly-2.11.1.min']\n",
       "            }\n",
       "        });\n",
       "        require(['plotly'], function(Plotly) {\n",
       "            window._Plotly = Plotly;\n",
       "        });\n",
       "        }\n",
       "        </script>\n",
       "        "
      ]
     },
     "metadata": {},
     "output_type": "display_data"
    },
    {
     "data": {
      "text/html": [
       "        <script type=\"text/javascript\">\n",
       "        window.PlotlyConfig = {MathJaxConfig: 'local'};\n",
       "        if (window.MathJax) {MathJax.Hub.Config({SVG: {font: \"STIX-Web\"}});}\n",
       "        if (typeof require !== 'undefined') {\n",
       "        require.undef(\"plotly\");\n",
       "        requirejs.config({\n",
       "            paths: {\n",
       "                'plotly': ['https://cdn.plot.ly/plotly-2.11.1.min']\n",
       "            }\n",
       "        });\n",
       "        require(['plotly'], function(Plotly) {\n",
       "            window._Plotly = Plotly;\n",
       "        });\n",
       "        }\n",
       "        </script>\n",
       "        "
      ]
     },
     "metadata": {},
     "output_type": "display_data"
    },
    {
     "data": {
      "text/html": [
       "        <script type=\"text/javascript\">\n",
       "        window.PlotlyConfig = {MathJaxConfig: 'local'};\n",
       "        if (window.MathJax) {MathJax.Hub.Config({SVG: {font: \"STIX-Web\"}});}\n",
       "        if (typeof require !== 'undefined') {\n",
       "        require.undef(\"plotly\");\n",
       "        requirejs.config({\n",
       "            paths: {\n",
       "                'plotly': ['https://cdn.plot.ly/plotly-2.11.1.min']\n",
       "            }\n",
       "        });\n",
       "        require(['plotly'], function(Plotly) {\n",
       "            window._Plotly = Plotly;\n",
       "        });\n",
       "        }\n",
       "        </script>\n",
       "        "
      ]
     },
     "metadata": {},
     "output_type": "display_data"
    }
   ],
   "source": [
    "import openalea.strawberry.application.misc as misc\n",
    "import openalea.strawberry.application.app_home as p0\n",
    "import openalea.strawberry.application.app_import_data as p1\n",
    "import openalea.strawberry.application.app_visualization as p2\n",
    "import openalea.strawberry.application.app_plant_scale as p3\n",
    "import openalea.strawberry.application.app_module_scale as p4\n",
    "import openalea.strawberry.application.app_node_scale as p5"
   ]
  },
  {
   "cell_type": "markdown",
   "id": "d714939b",
   "metadata": {},
   "source": [
    "## Home page"
   ]
  },
  {
   "cell_type": "code",
   "execution_count": 3,
   "id": "e1b16e3c",
   "metadata": {},
   "outputs": [
    {
     "data": {
      "application/vnd.jupyter.widget-view+json": {
       "model_id": "13f205bc20b646cd99fa78e357a96edf",
       "version_major": 2,
       "version_minor": 0
      },
      "text/plain": [
       "Card(children=[HTML(value=' \\n<style>.someclass { color : blue ; }</style>\\n<html>\\n<body>\\n<img style=\"width:…"
      ]
     },
     "metadata": {},
     "output_type": "display_data"
    }
   ],
   "source": [
    "p0.container_main"
   ]
  },
  {
   "cell_type": "markdown",
   "id": "7c130129",
   "metadata": {},
   "source": [
    "## Import mtg data from Import_MTG panel"
   ]
  },
  {
   "cell_type": "code",
   "execution_count": 4,
   "id": "74142c04",
   "metadata": {
    "scrolled": false
   },
   "outputs": [
    {
     "data": {
      "application/vnd.jupyter.widget-view+json": {
       "model_id": "629ca96d254045cda4f8dff055c03428",
       "version_major": 2,
       "version_minor": 0
      },
      "text/plain": [
       "Container(children=[Tabs(children=[Tab(children=['Import Files']), Tab(children=['Files Description']), TabIte…"
      ]
     },
     "metadata": {},
     "output_type": "display_data"
    }
   ],
   "source": [
    "p1.container_main"
   ]
  },
  {
   "cell_type": "markdown",
   "id": "1f72c209",
   "metadata": {},
   "source": [
    "## Visualise Plant"
   ]
  },
  {
   "cell_type": "code",
   "execution_count": 5,
   "id": "9c801d16",
   "metadata": {
    "scrolled": false
   },
   "outputs": [
    {
     "data": {
      "application/vnd.jupyter.widget-view+json": {
       "model_id": "e5fdd96010074881b3717259b6aff4a5",
       "version_major": 2,
       "version_minor": 0
      },
      "text/plain": [
       "Container(children=[Tabs(children=[Tab(children=['2d Visualization']), Tab(children=['3d Visualization']), Tab…"
      ]
     },
     "metadata": {},
     "output_type": "display_data"
    }
   ],
   "source": [
    "p2.container_main"
   ]
  },
  {
   "cell_type": "markdown",
   "id": "4bd44e92",
   "metadata": {},
   "source": [
    "## Analyses at Plant scale"
   ]
  },
  {
   "cell_type": "code",
   "execution_count": 6,
   "id": "616c1c87",
   "metadata": {
    "scrolled": false
   },
   "outputs": [
    {
     "data": {
      "application/vnd.jupyter.widget-view+json": {
       "model_id": "3fca71241215435f80706c965c0796a8",
       "version_major": 2,
       "version_minor": 0
      },
      "text/plain": [
       "Container(children=[Tabs(children=[Tab(children=['Export']), Tab(children=['Analyses']), TabItem(children=[Row…"
      ]
     },
     "metadata": {},
     "output_type": "display_data"
    }
   ],
   "source": [
    "p3.container_main"
   ]
  },
  {
   "cell_type": "markdown",
   "id": "3f8fa262",
   "metadata": {},
   "source": [
    "## Analyses at module scale"
   ]
  },
  {
   "cell_type": "code",
   "execution_count": 7,
   "id": "1de9e3ab",
   "metadata": {
    "scrolled": false
   },
   "outputs": [
    {
     "data": {
      "application/vnd.jupyter.widget-view+json": {
       "model_id": "3cacc6de428449938712abcd975f5380",
       "version_major": 2,
       "version_minor": 0
      },
      "text/plain": [
       "Container(children=[Tabs(children=[Tab(children=['Data extraction']), Tab(children=['Single genotype']), Tab(c…"
      ]
     },
     "metadata": {},
     "output_type": "display_data"
    }
   ],
   "source": [
    "p4.container_main"
   ]
  },
  {
   "cell_type": "markdown",
   "id": "13d78ebf",
   "metadata": {},
   "source": [
    "## Analyses at node scale"
   ]
  },
  {
   "cell_type": "code",
   "execution_count": 8,
   "id": "80489984",
   "metadata": {},
   "outputs": [
    {
     "data": {
      "application/vnd.jupyter.widget-view+json": {
       "model_id": "85fc2b48b5d644778cc589706007a07c",
       "version_major": 2,
       "version_minor": 0
      },
      "text/plain": [
       "Container(children=[Tabs(children=[Tab(children=['Waffle']), TabItem(children=[Row(children=[Card(children=[HT…"
      ]
     },
     "metadata": {},
     "output_type": "display_data"
    }
   ],
   "source": [
    "p5.container_main"
   ]
  }
 ],
 "metadata": {
  "interpreter": {
   "hash": "cbdb6d5aea39af9f99e011009b5ccc99b82d76a5a56f81fddf12fc6f7d7faf99"
  },
  "kernelspec": {
   "display_name": "Python 3.9.12 ('strawberry')",
   "language": "python",
   "name": "python3"
  },
  "language_info": {
   "codemirror_mode": {
    "name": "ipython",
    "version": 3
   },
   "file_extension": ".py",
   "mimetype": "text/x-python",
   "name": "python",
   "nbconvert_exporter": "python",
   "pygments_lexer": "ipython3",
   "version": "3.9.12"
  }
 },
 "nbformat": 4,
 "nbformat_minor": 5
}
