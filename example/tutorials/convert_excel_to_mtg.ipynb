{
 "cells": [
  {
   "cell_type": "code",
   "execution_count": 1,
   "id": "7264fe29-9c9f-4b98-943a-b7fc11e215d5",
   "metadata": {},
   "outputs": [],
   "source": [
    "from pathlib import Path\n",
    "import pandas as pd\n",
    "from datetime import datetime\n",
    "\n",
    "from openalea.mtg.io import write_mtg\n",
    "from openalea.deploy.shared_data import shared_data\n",
    "from oawidgets.plantgl import PlantGL\n",
    "\n",
    "import openalea.strawberry\n",
    "from openalea.strawberry.import_mtgfile import import_mtgfile,import_mtg_from_csv, union,strawberry_reader_csv\n",
    "from openalea.strawberry import analysis\n",
    "from openalea.strawberry import visu2d, visu3d\n",
    "from openalea.plantgl.all import Viewer"
   ]
  },
  {
   "cell_type": "code",
   "execution_count": 2,
   "id": "e8a8bfaf-7a33-4a0a-9975-6042b158ee06",
   "metadata": {},
   "outputs": [],
   "source": [
    "home_path = Path.home()\n",
    "path_data= home_path / \"Documents\" / \"GitHub\" / \"strawberry\" / \"share\" / \"data\" / \"breeding_value\"\n",
    "files=list(path_data.glob(\"*xlsx\"))"
   ]
  },
  {
   "cell_type": "code",
   "execution_count": 3,
   "id": "1e74e373-e966-41c5-93de-5cfda848c08c",
   "metadata": {},
   "outputs": [
    {
     "data": {
      "text/plain": [
       "Path('C:\\\\Users\\\\mlabadie\\\\Documents\\\\GitHub\\\\strawberry\\\\share\\\\data\\\\breeding_value')"
      ]
     },
     "execution_count": 3,
     "metadata": {},
     "output_type": "execute_result"
    }
   ],
   "source": [
    "shared_data(openalea.strawberry) / \"breeding_value\""
   ]
  },
  {
   "cell_type": "code",
   "execution_count": 4,
   "id": "dc6e458a-7553-48c2-89f7-77bc035ae5cb",
   "metadata": {},
   "outputs": [
    {
     "name": "stdout",
     "output_type": "stream",
     "text": [
      "Belle_et_Bonne\n"
     ]
    },
    {
     "name": "stderr",
     "output_type": "stream",
     "text": [
      "c:\\users\\mlabadie\\documents\\github\\strawberry\\src\\openalea\\strawberry\\import_mtgfile.py:222: Warning: Redeclaration of module 'F'.\n",
      "  l.declare(module)\n",
      "c:\\users\\mlabadie\\documents\\github\\strawberry\\src\\openalea\\strawberry\\import_mtgfile.py:222: Warning: Redeclaration of module 'f'.\n",
      "  l.declare(module)\n"
     ]
    },
    {
     "name": "stdout",
     "output_type": "stream",
     "text": [
      "Belrubi\n",
      "CF10122\n",
      "CF10277\n",
      "CF12074\n",
      "CF9416\n",
      "Ciflorettes\n",
      "Cigaline\n",
      "Cireine\n",
      "CIR_107\n",
      "Clery\n",
      "Darselect\n",
      "Dream\n",
      "Gariguettes\n",
      "Leroy_Ladurie\n",
      "Magnum\n",
      "Manon\n",
      "Mme_Moutot\n",
      "Osiris\n",
      "Rubis\n",
      "Sanié\n",
      "Sans rivale\n"
     ]
    }
   ],
   "source": [
    "mtgs=import_mtg_from_csv(files=files, first_property=\"experimental_names\",symbol_at_scale=dict(P=1,T=2, F=3, f=3, b=3, HT=3, bt=3, ht=3,s=3))"
   ]
  },
  {
   "cell_type": "code",
   "execution_count": 5,
   "id": "dbdb8d66-2e41-447b-b207-d04db1638a96",
   "metadata": {},
   "outputs": [
    {
     "data": {
      "text/plain": [
       "['edge_type',\n",
       " 'label',\n",
       " '_axial_id',\n",
       " 'experimental_name',\n",
       " 'Genotype',\n",
       " 'Modality',\n",
       " 'Plant_ID',\n",
       " 'Sample_date',\n",
       " 'Architecture_date',\n",
       " 'Stade',\n",
       " 'no_fruits',\n",
       " 'no_flowers',\n",
       " 'total_flowers',\n",
       " 'area',\n",
       " 'leaf_ID',\n",
       " 'order']"
      ]
     },
     "execution_count": 5,
     "metadata": {},
     "output_type": "execute_result"
    }
   ],
   "source": [
    "g=mtgs[\"Belle_et_Bonne\"]\n",
    "g= union(g)\n",
    "#d=g.property('Sample_date')\n",
    "from datetime import datetime\n",
    "#datetime.strftime(d[1], '%d/%m/%Y')\n",
    "\n",
    "for k in g.property('Sample_date').keys():\n",
    "    g.property('Sample_date')[k]=datetime.strftime(g.property('Sample_date')[k], '%d/%m/%Y')\n",
    "    g.property('Architecture_date')[k]=datetime.strftime(g.property('Architecture_date')[k], '%d/%m/%Y')\n",
    "    \n",
    "\n",
    "g.property_names()"
   ]
  },
  {
   "cell_type": "code",
   "execution_count": 6,
   "id": "dac80c1f-542b-4210-895e-d8b3a805c3dc",
   "metadata": {},
   "outputs": [],
   "source": [
    "properties = [('experimental_name','STRING'),\n",
    "              ('Genotype',\"STRING\"),\n",
    "              ('Modality','STRING'),\n",
    "              ('Plant_ID','REAL'),\n",
    "              ('Sample_date','DD/MM/YY'),\n",
    "              ('Architecture_date','DD/MM/YY'),\n",
    "              ('Stade','STRING'),\n",
    "              ('no_fruits','REAL'),\n",
    "              ('no_flowers','REAL'),\n",
    "              ('total_flowers','REAL'),\n",
    "              ('area','REAL'),\n",
    "              ('leaf_ID','REAL'),\n",
    "              ('order','REAL')]\n",
    "              \n",
    "              \n",
    "#properties = [(p, 'REAL') for p in g.property_names() if p not in ['edge_type', 'index', 'label','_axial_id']]"
   ]
  },
  {
   "cell_type": "code",
   "execution_count": 10,
   "id": "137f82a5-ec91-4710-ae3f-2ffdd14df72c",
   "metadata": {},
   "outputs": [],
   "source": [
    "mtg_lines = write_mtg(g, properties,class_at_scale={'P':1,'T':2,'A':2,'F':3,'f':3,'s':3,'bt':3,'ht':3,'HT':3},nb_tab=7)\n",
    "filename = list(set(g.property(\"Genotype\").values()))[0]+'.mtg'\n",
    "data=path_data / filename\n",
    "f = open(str(data), 'w',encoding='UTF8')\n",
    "f.write(mtg_lines)\n",
    "f.close()"
   ]
  },
  {
   "cell_type": "code",
   "execution_count": 13,
   "id": "8114dc62-99db-4781-933e-da67dc8355e9",
   "metadata": {},
   "outputs": [],
   "source": [
    "t= import_mtgfile(filename=\"Belle_et_Bonne\")"
   ]
  },
  {
   "cell_type": "code",
   "execution_count": null,
   "id": "65a6098c-15e3-4544-8ba0-ffcef2d64a6b",
   "metadata": {},
   "outputs": [],
   "source": [
    "import_mtgfile?"
   ]
  },
  {
   "cell_type": "markdown",
   "id": "7aa0d15d",
   "metadata": {},
   "source": [
    "# Main function"
   ]
  },
  {
   "cell_type": "code",
   "execution_count": 14,
   "id": "ae301e8f",
   "metadata": {},
   "outputs": [
    {
     "name": "stderr",
     "output_type": "stream",
     "text": [
      "<>:38: SyntaxWarning: assertion is always true, perhaps remove parentheses?\n",
      "<>:38: SyntaxWarning: assertion is always true, perhaps remove parentheses?\n",
      "C:\\Users\\mlabadie\\AppData\\Local\\Temp\\ipykernel_17972\\204700315.py:38: SyntaxWarning: assertion is always true, perhaps remove parentheses?\n",
      "  assert (files== None, \"directory no contain .xlsx file\")\n"
     ]
    }
   ],
   "source": [
    "def path_data(directory_name=None, filename=None):\n",
    "    if directory_name is None:\n",
    "        pathdir = shared_data(openalea.strawberry)\n",
    "    else:\n",
    "        pathdir= shared_data(openalea.strawberry) / directory_name\n",
    "    \n",
    "    if filename is None:\n",
    "        pathdir = pathdir\n",
    "    else:\n",
    "        pathdir = pathdir / filename +\".xlsx\"\n",
    "    \n",
    "    return pathdir\n",
    "\n",
    "def write_excel_to_mtg(directory_name=None, \n",
    "                       filename=None, \n",
    "                       properties =[('experimental_name','STRING'),\n",
    "                                    ('Genotype',\"STRING\"),\n",
    "                                    ('Modality','STRING'),\n",
    "                                    ('Plant_ID','REAL'),\n",
    "                                    ('Sample_date','DD/MM/YY'),\n",
    "                                    ('Architecture_date','DD/MM/YY'),\n",
    "                                    ('Stade','STRING'),\n",
    "                                    ('no_fruits','REAL'),\n",
    "                                    ('no_flowers','REAL'),\n",
    "                                    ('FLWRNUMBER','REAL'),\n",
    "                                    ('area','REAL'),\n",
    "                                    ('leaf_ID','REAL'),\n",
    "                                    ('order','REAL')],\n",
    "                       symbole_at_scale={\"P\":1,\"T\":2,\"A\":2,\"F\":3,\"f\":3,\"HT\":3, \"bt\":3, \"ht\":3,\"s\":3}):\n",
    "    \n",
    "    path_file=path_data(directory_name=directory_name, filename=filename)\n",
    "    \n",
    "    if path_file.endswith(\".xlsx\"):\n",
    "        g=strawberry_reader_csv(file=path_file,first_property=\"experimental_name\",symbole_at_scale=symbole_at_scale)\n",
    "        g= union(g)\n",
    "    else: \n",
    "        files=list(path_file.glob(\"*xlsx\"))\n",
    "        assert (files== None, \"directory no contain .xlsx file\")\n",
    "        g= import_mtg_from_csv(files=files,first_property=\"experimental_name\",symbol_at_scale=symbole_at_scale)\n",
    "        g=union(g)\n",
    "        \n",
    "    for k in g.property('Sample_date').keys():\n",
    "        g.property('Sample_date')[k]=datetime.strftime(g.property('Sample_date')[k], '%d/%m/%Y')\n",
    "        g.property('Architecture_date')[k]=datetime.strftime(g.property('Architecture_date')[k], '%d/%m/%Y')\n",
    "    \n",
    "    # convert total_flowers name in FLWRNUMBER (properties requiered in the source code)\n",
    "    g.properties()[\"FLWRNUMBER\"]=g.properties()[\"total_flowers\"]\n",
    "    del g.properties()[\"total_flowers\"]\n",
    "    \n",
    "    max_order= max(g.property(\"order\").values())+1\n",
    "    mtg_lines = write_mtg(g, properties,class_at_scale=symbole_at_scale,nb_tab=max_order)\n",
    "    name = path_file.replace('.xlsx','.mtg')\n",
    "    \n",
    "    f = open(str(name), 'w',encoding='UTF8')\n",
    "    f.write(mtg_lines)\n",
    "    f.close()"
   ]
  },
  {
   "cell_type": "code",
   "execution_count": null,
   "id": "3befb24c-856e-4e1d-bdf3-a20cd236787f",
   "metadata": {},
   "outputs": [],
   "source": [
    "from openalea.strawberry.import_mtgfile import import_mtgfile\n",
    "directory_name= \"breeding_value\"\n",
    "filename= 'Belle_et_Bonne'\n",
    "write_excel_to_mtg(directory_name,filename,symbole_at_scale={'P':1,'T':2,'A':2,'F':3,'f':3,'s':3,'bt':3,'ht':3,'HT':3})\n",
    "g= import_mtgfile(filename=filename)\n",
    "# CF10122, Ciflorettes, Dream,Rubis, Sanié, "
   ]
  },
  {
   "cell_type": "code",
   "execution_count": null,
   "id": "db0bee1d-c034-485a-82e7-e3e9a0d1cd78",
   "metadata": {},
   "outputs": [],
   "source": [
    "from openalea.strawberry.import_mtgfile import import_mtgfile\n",
    "g= import_mtgfile(filename='CF10122')"
   ]
  },
  {
   "cell_type": "code",
   "execution_count": 25,
   "id": "fa2a156e-3d99-47f4-8829-b1d8377288bf",
   "metadata": {},
   "outputs": [],
   "source": [
    "path=shared_data(openalea.strawberry).glob('breeding_value\\*.xlsx')\n",
    "names=[filename.split(\"\\\\\")[-1].split(\".\")[0] for filename in path]\n",
    "for name in names:\n",
    "    write_excel_to_mtg(directory_name=\"breeding_value\",filename=name)"
   ]
  },
  {
   "cell_type": "code",
   "execution_count": 24,
   "id": "17e2068a-28a9-4408-b020-91e6dd8f96a5",
   "metadata": {},
   "outputs": [
    {
     "data": {
      "text/plain": [
       "[Path('C:\\\\Users\\\\mlabadie\\\\Documents\\\\GitHub\\\\strawberry\\\\share\\\\data\\\\breeding_value\\\\Belle_et_Bonne.xlsx'),\n",
       " Path('C:\\\\Users\\\\mlabadie\\\\Documents\\\\GitHub\\\\strawberry\\\\share\\\\data\\\\breeding_value\\\\Belrubi.xlsx'),\n",
       " Path('C:\\\\Users\\\\mlabadie\\\\Documents\\\\GitHub\\\\strawberry\\\\share\\\\data\\\\breeding_value\\\\CF10122.xlsx'),\n",
       " Path('C:\\\\Users\\\\mlabadie\\\\Documents\\\\GitHub\\\\strawberry\\\\share\\\\data\\\\breeding_value\\\\CF10277.xlsx'),\n",
       " Path('C:\\\\Users\\\\mlabadie\\\\Documents\\\\GitHub\\\\strawberry\\\\share\\\\data\\\\breeding_value\\\\CF12074.xlsx'),\n",
       " Path('C:\\\\Users\\\\mlabadie\\\\Documents\\\\GitHub\\\\strawberry\\\\share\\\\data\\\\breeding_value\\\\CF9416.xlsx'),\n",
       " Path('C:\\\\Users\\\\mlabadie\\\\Documents\\\\GitHub\\\\strawberry\\\\share\\\\data\\\\breeding_value\\\\Ciflorettes.xlsx'),\n",
       " Path('C:\\\\Users\\\\mlabadie\\\\Documents\\\\GitHub\\\\strawberry\\\\share\\\\data\\\\breeding_value\\\\Cigaline.xlsx'),\n",
       " Path('C:\\\\Users\\\\mlabadie\\\\Documents\\\\GitHub\\\\strawberry\\\\share\\\\data\\\\breeding_value\\\\Cireine.xlsx'),\n",
       " Path('C:\\\\Users\\\\mlabadie\\\\Documents\\\\GitHub\\\\strawberry\\\\share\\\\data\\\\breeding_value\\\\CIR_107.xlsx'),\n",
       " Path('C:\\\\Users\\\\mlabadie\\\\Documents\\\\GitHub\\\\strawberry\\\\share\\\\data\\\\breeding_value\\\\Clery.xlsx'),\n",
       " Path('C:\\\\Users\\\\mlabadie\\\\Documents\\\\GitHub\\\\strawberry\\\\share\\\\data\\\\breeding_value\\\\Darselect.xlsx'),\n",
       " Path('C:\\\\Users\\\\mlabadie\\\\Documents\\\\GitHub\\\\strawberry\\\\share\\\\data\\\\breeding_value\\\\Dream.xlsx'),\n",
       " Path('C:\\\\Users\\\\mlabadie\\\\Documents\\\\GitHub\\\\strawberry\\\\share\\\\data\\\\breeding_value\\\\Gariguettes.xlsx'),\n",
       " Path('C:\\\\Users\\\\mlabadie\\\\Documents\\\\GitHub\\\\strawberry\\\\share\\\\data\\\\breeding_value\\\\Leroy_Ladurie.xlsx'),\n",
       " Path('C:\\\\Users\\\\mlabadie\\\\Documents\\\\GitHub\\\\strawberry\\\\share\\\\data\\\\breeding_value\\\\Magnum.xlsx'),\n",
       " Path('C:\\\\Users\\\\mlabadie\\\\Documents\\\\GitHub\\\\strawberry\\\\share\\\\data\\\\breeding_value\\\\Manon.xlsx'),\n",
       " Path('C:\\\\Users\\\\mlabadie\\\\Documents\\\\GitHub\\\\strawberry\\\\share\\\\data\\\\breeding_value\\\\Mme_Moutot.xlsx'),\n",
       " Path('C:\\\\Users\\\\mlabadie\\\\Documents\\\\GitHub\\\\strawberry\\\\share\\\\data\\\\breeding_value\\\\Osiris.xlsx'),\n",
       " Path('C:\\\\Users\\\\mlabadie\\\\Documents\\\\GitHub\\\\strawberry\\\\share\\\\data\\\\breeding_value\\\\Rubis.xlsx'),\n",
       " Path('C:\\\\Users\\\\mlabadie\\\\Documents\\\\GitHub\\\\strawberry\\\\share\\\\data\\\\breeding_value\\\\Sanié.xlsx'),\n",
       " Path('C:\\\\Users\\\\mlabadie\\\\Documents\\\\GitHub\\\\strawberry\\\\share\\\\data\\\\breeding_value\\\\Sans rivale.xlsx')]"
      ]
     },
     "execution_count": 24,
     "metadata": {},
     "output_type": "execute_result"
    }
   ],
   "source": []
  }
 ],
 "metadata": {
  "kernelspec": {
   "display_name": "Python 3 (ipykernel)",
   "language": "python",
   "name": "python3"
  },
  "language_info": {
   "codemirror_mode": {
    "name": "ipython",
    "version": 3
   },
   "file_extension": ".py",
   "mimetype": "text/x-python",
   "name": "python",
   "nbconvert_exporter": "python",
   "pygments_lexer": "ipython3",
   "version": "3.9.12"
  }
 },
 "nbformat": 4,
 "nbformat_minor": 5
}
